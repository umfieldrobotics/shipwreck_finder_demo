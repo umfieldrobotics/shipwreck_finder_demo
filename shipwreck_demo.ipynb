{
  "cells": [
    {
      "cell_type": "markdown",
      "metadata": {
        "colab_type": "text",
        "id": "view-in-github"
      },
      "source": [
        "<a href=\"https://colab.research.google.com/github/umfieldrobotics/shipwreck_finder_demo/blob/main/shipwreck_demo.ipynb\" target=\"_parent\"><img src=\"https://colab.research.google.com/assets/colab-badge.svg\" alt=\"Open In Colab\"/></a>"
      ]
    },
    {
      "cell_type": "code",
      "execution_count": null,
      "metadata": {
        "colab": {
          "base_uri": "https://localhost:8080/"
        },
        "id": "hZdyn7fqDqal",
        "outputId": "e46f4e2d-5ffa-483c-e1fb-9f13586b805f"
      },
      "outputs": [],
      "source": [
        "!wget -O mini.sh https://repo.anaconda.com/miniconda/Miniconda3-py38_4.8.2-Linux-x86_64.sh\n",
        "!chmod +x mini.sh\n",
        "!bash ./mini.sh -b -f -p /usr/local\n",
        "!conda install -q -y jupyter\n",
        "!conda install -q -y google-colab -c conda-forge\n",
        "!python -m ipykernel install --name \"py38\" --user"
      ]
    },
    {
      "cell_type": "code",
      "execution_count": null,
      "metadata": {
        "colab": {
          "base_uri": "https://localhost:8080/"
        },
        "id": "H80WJWdPFLFL",
        "outputId": "6972f8b5-9f85-4953-e907-986ba6972eb5"
      },
      "outputs": [],
      "source": [
        "# Reload the web page and execute this cell\n",
        "import sys\n",
        "print(\"User Current Version:-\", sys.version)"
      ]
    },
    {
      "cell_type": "code",
      "execution_count": null,
      "metadata": {},
      "outputs": [],
      "source": [
        "from torch.utils.data import DataLoader\n",
        "import tqdm\n",
        "train_loader = DataLoader(train_dataset, batch_size=4, shuffle=True)\n",
        "test_loader = DataLoader(test_dataset, batch_size=1, shuffle=False)\n",
        "\n",
        "label_count = 0\n",
        "background_count = 0\n",
        "total_count = 0\n",
        "lr = 5e-4\n",
        "\n",
        "for data in train_loader:\n",
        "    label = data['label'].to(DEVICE)\n",
        "    label_count += (label == 1).sum()\n",
        "    background_count += (label == 0).sum()\n",
        "total_count = background_count # made a separate background variable since masked pixels don't count as background\n",
        "print(label_count, total_count)\n",
        "\n",
        "ratio = label_count / (total_count)\n",
        "weight1 = label_count / (total_count - label_count)\n",
        "weight0 = 1/weight1\n",
        "print(\"Ratio:\", ratio.item(), \"Weight0:\", weight0.item(), \"Weight1:\", weight1.item())\n",
        "\n",
        "optim = torch.optim.Adam(model.parameters(), lr=lr)\n",
        "ce_loss = torch.nn.CrossEntropyLoss(weight=torch.tensor([weight0, weight1]).to(DEVICE), ignore_index=-1)\n",
        "\n",
        "NUM_EPOCHS=10\n",
        "epoch_\n",
        "for epoch in range(NUM_EPOCHS):\n",
        "  model.train()\n",
        "  epoch_loss_accum = 0.0\n",
        "  train_pbar = tqdm.tqdm(train_loader, total = len(train_loader), desc = 'Train Batches', leave=False)\n",
        "  for ii, train_data in enumerate(train_pbar):\n",
        "    im = train_data['image'].to(DEVICE)\n",
        "    label = train_data['label'].to(DEVICE)\n",
        "\n",
        "    logits = model(im)\n",
        "    loss = ce_loss(logits, label)\n",
        "    optim.zero_grad(set_to_none=True)\n",
        "    loss.backward()\n",
        "    optim.step()\n",
        "\n",
        "    epoch_loss_accum += loss.item() * im.size(0)\n",
        "\n",
        "  train_loss_mean = epoch_loss_accum / len(train_loader.dataset)\n",
        "    epoch_pbar.set_description(f'Epochs (Train Loss: {train_loss_mean:.4f})')\n",
        "\n",
        "  model.eval()\n",
        "  test_loss_accum = 0.0\n",
        "  test_iou_accum = 0.0\n",
        "  with torch.no_grad():\n",
        "    test_pbar = tqdm.tqdm(test_loader, total = len(test_loader), desc = 'Test Batches', leave=False)\n",
        "    for ii, data in enumerate(test_pbar):\n",
        "      im = data['image'].to(DEVICE)\n",
        "      label = data['label'].to(DEVICE)\n",
        "      pred = model(im)\n",
        "      loss = ce_loss(pred, label)\n",
        "      test_loss_accum += loss.item() * im.size(0)\n",
        "\n",
        "    epoch_pbar.set_description(f'Epochs (Test Loss: {test_loss_mean:.4f})')\n",
        "\n",
        "  test_loss_mean = test_loss_accum / len(test_loader.dataset)\n",
        "  print(f'[INFO - Test]\\t EPOCH: {epoch}, Loss: {test_loss_mean:.4f}')\n",
        "  epoch_pbar.set_description(f'Epochs (Test Loss: {test_loss_mean:.4f})')"
      ]
    },
    {
      "cell_type": "markdown",
      "metadata": {
        "id": "SkHVmfncvYbQ"
      },
      "source": []
    }
  ],
  "metadata": {
    "colab": {
      "collapsed_sections": [],
      "include_colab_link": true,
      "name": "py38 success.ipynb",
      "provenance": []
    },
    "kernelspec": {
      "display_name": "Python 3.8",
      "name": "py38"
    }
  },
  "nbformat": 4,
  "nbformat_minor": 0
}
